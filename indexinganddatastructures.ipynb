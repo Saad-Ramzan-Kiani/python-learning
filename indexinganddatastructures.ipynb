{
 "cells": [
  {
   "cell_type": "markdown",
   "id": "f9283f99-3c7a-4254-ae87-439f6a7a8a49",
   "metadata": {},
   "source": [
    "Indexing"
   ]
  },
  {
   "cell_type": "code",
   "execution_count": 2,
   "id": "2ed94d70-c146-445e-bc0c-99ae00114783",
   "metadata": {},
   "outputs": [],
   "source": [
    "a='T440p', 'ThinkPad', 'Lenovo'"
   ]
  },
  {
   "cell_type": "code",
   "execution_count": 3,
   "id": "344672e6-8c8c-45b8-8faf-dc6380b74a54",
   "metadata": {},
   "outputs": [
    {
     "name": "stdout",
     "output_type": "stream",
     "text": [
      "('T440p', 'ThinkPad', 'Lenovo')\n"
     ]
    }
   ],
   "source": [
    "print(a)"
   ]
  },
  {
   "cell_type": "code",
   "execution_count": 14,
   "id": "58470f66-237e-4270-b4cb-17dc1dcd1806",
   "metadata": {},
   "outputs": [
    {
     "name": "stdout",
     "output_type": "stream",
     "text": [
      "4\n",
      "v\n"
     ]
    }
   ],
   "source": [
    "print(a[0][2])\n",
    "print(a[2][4])"
   ]
  },
  {
   "cell_type": "code",
   "execution_count": 20,
   "id": "7fa5858b-ed54-428b-a2de-e7d87c8c90e3",
   "metadata": {},
   "outputs": [
    {
     "name": "stdout",
     "output_type": "stream",
     "text": [
      "8\n"
     ]
    }
   ],
   "source": [
    "print(len(a[1]))"
   ]
  },
  {
   "cell_type": "code",
   "execution_count": 28,
   "id": "00cff264-0991-4bdc-8d77-8f1a9a5abe06",
   "metadata": {},
   "outputs": [
    {
     "name": "stdout",
     "output_type": "stream",
     "text": [
      "('ThinkPad', 'Lenovo')\n"
     ]
    }
   ],
   "source": [
    "print(a[1:3])"
   ]
  },
  {
   "cell_type": "code",
   "execution_count": 30,
   "id": "7a0a518a-dd52-4c17-b262-92e46f27e2bc",
   "metadata": {},
   "outputs": [
    {
     "name": "stdout",
     "output_type": "stream",
     "text": [
      "inkP\n"
     ]
    }
   ],
   "source": [
    "print(a[1][2:6])"
   ]
  },
  {
   "cell_type": "code",
   "execution_count": 42,
   "id": "9e6a629d-32ff-4839-a0d4-a3d1c4f097af",
   "metadata": {},
   "outputs": [
    {
     "name": "stdout",
     "output_type": "stream",
     "text": [
      "CHAOMIN\n"
     ]
    }
   ],
   "source": [
    "food='chaomin'\n",
    "print(food.upper())"
   ]
  },
  {
   "cell_type": "code",
   "execution_count": null,
   "id": "31e626d7-1cbe-4530-978d-49e6038c41f8",
   "metadata": {},
   "outputs": [],
   "source": []
  }
 ],
 "metadata": {
  "kernelspec": {
   "display_name": "Python 3 (ipykernel)",
   "language": "python",
   "name": "python3"
  },
  "language_info": {
   "codemirror_mode": {
    "name": "ipython",
    "version": 3
   },
   "file_extension": ".py",
   "mimetype": "text/x-python",
   "name": "python",
   "nbconvert_exporter": "python",
   "pygments_lexer": "ipython3",
   "version": "3.12.4"
  }
 },
 "nbformat": 4,
 "nbformat_minor": 5
}
